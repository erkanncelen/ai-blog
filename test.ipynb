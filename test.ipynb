{
 "cells": [
  {
   "cell_type": "code",
   "execution_count": 14,
   "metadata": {},
   "outputs": [
    {
     "name": "stderr",
     "output_type": "stream",
     "text": [
      "Setting `pad_token_id` to `eos_token_id`:50256 for open-end generation.\n"
     ]
    },
    {
     "name": "stdout",
     "output_type": "stream",
     "text": [
      "When the soul drifts uncertainly between life and the dream, between the mind's disorder and the return to cool reflection, it is in religious thought that we should seek consolation\n",
      "\n",
      "When the soul drifts uncertainly between life and the dream, between the mind's disorder and the return to cool reflection, it is in religious thought that we should seek consolation in the search for a peace of mind that is capable of restoring hope for our souls to the world.\n",
      "\n",
      "This was the statement, written in 1788, by William James, an American Baptist minister who had practiced philosophy for 25 years, and who was a leading theologian in the Christian denominations, and who had been a founding member of the Methodist Church in America.\n",
      "\n",
      "Today the author is often called the \"Spiritualist\" or \"Spiritual Activist\". At the time he wrote these statements, James believed there was a divine intervention in our lives, and therefore was a religious figure.\n",
      "\n",
      "His theology has been described as a \"new generation\" of \"saints\" whose doctrine has been \"noted or discussed in the church world\", but whose doctrines are far from religious. They have a rather religious bent and believe a doctrine that the Bible and the Trinity are two separate truths.\n",
      "\n",
      "James' doctrine may be summarized thus:\n",
      "\n",
      "In my own day, I once lived with several Baptist ministers who used a form of spirit in which they proclaimed what is called the Trinity-Conception, the Divine Being; but since the Holy Spirit was absent, I never saw or heard of the Trinity...\n"
     ]
    }
   ],
   "source": [
    "from transformers import pipeline\n",
    "import requests\n",
    "\n",
    "## function that gets the random quote\n",
    "def get_random_quote():\n",
    "\ttry:\n",
    "\t\t## making the get request\n",
    "\t\tresponse = requests.get(\"https://quote-garden.herokuapp.com/api/v3/quotes/random\")\n",
    "\t\tif response.status_code == 200:\n",
    "\t\t\t## extracting the core data\n",
    "\t\t\tjson_data = response.json()\n",
    "\t\t\tdata = json_data['data']\n",
    "\n",
    "\t\t\t## getting the quote from the data\n",
    "\t\t\treturn data[0]['quoteText']\n",
    "\t\telse:\n",
    "\t\t\tprint(\"Error while getting quote\")\n",
    "\texcept:\n",
    "\t\tprint(\"Something went wrong! Try Again!\")\n",
    "\n",
    "quote = get_random_quote()\n",
    "\n",
    "generator = pipeline('text-generation', model ='EleutherAI/gpt-neo-125M')\n",
    "\n",
    "context = quote.partition('.')[0]\n",
    "output = generator(context, max_length=300, do_sample=True, temperature=0.9)\n",
    "content = output[0]['generated_text'].rsplit('.', 1)[0]+\".\"\n",
    "print(context+'\\n'+'\\n'+content)"
   ]
  }
 ],
 "metadata": {
  "kernelspec": {
   "display_name": "Python 3.9.13 ('venv': venv)",
   "language": "python",
   "name": "python3"
  },
  "language_info": {
   "codemirror_mode": {
    "name": "ipython",
    "version": 3
   },
   "file_extension": ".py",
   "mimetype": "text/x-python",
   "name": "python",
   "nbconvert_exporter": "python",
   "pygments_lexer": "ipython3",
   "version": "3.9.13"
  },
  "orig_nbformat": 4,
  "vscode": {
   "interpreter": {
    "hash": "61072e85bc0ecb51a76e41abfb41aa836401fcc3efc2dccb600f419a5e29a422"
   }
  }
 },
 "nbformat": 4,
 "nbformat_minor": 2
}
