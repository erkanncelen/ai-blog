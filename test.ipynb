{
 "cells": [
  {
   "cell_type": "code",
   "execution_count": 7,
   "metadata": {},
   "outputs": [
    {
     "name": "stderr",
     "output_type": "stream",
     "text": [
      "/Users/erkancelen/development/trollnews/venv/lib/python3.9/site-packages/tqdm/auto.py:22: TqdmWarning: IProgress not found. Please update jupyter and ipywidgets. See https://ipywidgets.readthedocs.io/en/stable/user_install.html\n",
      "  from .autonotebook import tqdm as notebook_tqdm\n",
      "Setting `pad_token_id` to `eos_token_id`:50256 for open-end generation.\n"
     ]
    },
    {
     "name": "stdout",
     "output_type": "stream",
     "text": [
      "I have a total irreverence for anything connected with society except that which makes the roads safer, the beer stronger, the food cheaper and the old men and old women warmer in the winter and happier in the summer\n",
      "\n",
      "I have a total irreverence for anything connected with society except that which makes the roads safer, the beer stronger, the food cheaper and the old men and old women warmer in the winter and happier in the summer?\n",
      "\n",
      "But the worst is not quite what you think.\n",
      "\n",
      "Last week, I learned that my mother's story is only one of thousands of children who have run out to the park and gone for a walk.\n",
      "\n",
      "That day she wrote some of the most important letters to me over the phone, hoping to read them aloud and tell me about it, but I don't know what she was trying to say. And when I spoke of her a little later, she said to me, \"You are not living proof that you can live on the streets. You are living the only thing in this world that can make you happy.\"\n",
      "\n",
      "My mother's letter had been put on the back of the book.\n",
      "\n",
      "She said she had \"lived for long years\" in the United States. But in Canada, where I live now, there is a kind of \"living proof\" on the road that she was able to \"live on the streets.\"\n",
      "\n",
      "She wrote: And the roads are going to be safer there.\n",
      "\n",
      "I could have made a much better life on the streets. I could have lived on the streets for a whole lot longer. Perhaps I would have, but it wouldn't have mattered to me.\n"
     ]
    }
   ],
   "source": [
    "from transformers import pipeline\n",
    "import requests\n",
    "\n",
    "## function that gets the random quote\n",
    "def get_random_quote():\n",
    "\ttry:\n",
    "\t\t## making the get request\n",
    "\t\tresponse = requests.get(\"https://quote-garden.herokuapp.com/api/v3/quotes/random\")\n",
    "\t\tif response.status_code == 200:\n",
    "\t\t\t## extracting the core data\n",
    "\t\t\tjson_data = response.json()\n",
    "\t\t\tdata = json_data['data']\n",
    "\n",
    "\t\t\t## getting the quote from the data\n",
    "\t\t\treturn data[0]['quoteText']\n",
    "\t\telse:\n",
    "\t\t\tprint(\"Error while getting quote\")\n",
    "\texcept:\n",
    "\t\tprint(\"Something went wrong! Try Again!\")\n",
    "\n",
    "quote = get_random_quote()\n",
    "\n",
    "generator = pipeline('text-generation', model ='EleutherAI/gpt-neo-125M')\n",
    "\n",
    "context = quote.partition('.')[0]\n",
    "output = generator(context, max_length=300, do_sample=True, temperature=0.9)\n",
    "content = output[0]['generated_text'].rsplit('.', 1)[0]+\".\"\n",
    "print(context+'\\n'+'\\n'+content)"
   ]
  },
  {
   "cell_type": "code",
   "execution_count": 8,
   "metadata": {},
   "outputs": [
    {
     "name": "stdout",
     "output_type": "stream",
     "text": [
      "1 record inserted.\n"
     ]
    }
   ],
   "source": [
    "from dotenv import load_dotenv\n",
    "import mysql.connector\n",
    "import os\n",
    "\n",
    "load_dotenv()\n",
    "\n",
    "mydb = mysql.connector.connect(\n",
    "  host = os.getenv('DB_HOST'),\n",
    "  user = os.getenv('DB_USER'),\n",
    "  password = os.getenv('DB_PASSWORD'),\n",
    "  database = os.getenv('DB_NAME')\n",
    ")\n",
    "\n",
    "mycursor = mydb.cursor()\n",
    "\n",
    "sql = \"INSERT INTO posts (context, content) VALUES (%s, %s)\"\n",
    "val = (context, content)\n",
    "mycursor.execute(sql, val)\n",
    "\n",
    "mydb.commit()\n",
    "\n",
    "print(mycursor.rowcount, \"record inserted.\")"
   ]
  },
  {
   "cell_type": "code",
   "execution_count": 9,
   "metadata": {},
   "outputs": [],
   "source": [
    "context1= context\n",
    "context2= context\n",
    "context3= context\n",
    "context4= context\n",
    "context5= context\n",
    "\n",
    "content1= content\n",
    "content2= content\n",
    "content3= content\n",
    "content4= content\n",
    "content5= content\n",
    "\n",
    "date1= \"20 November 2022 16:43\"\n",
    "date2= \"21 November 2022 16:43\"\n",
    "date3= \"22 November 2022 16:43\"\n",
    "date4= \"23 November 2022 16:43\"\n",
    "date5= \"24 November 2022 16:43\""
   ]
  },
  {
   "cell_type": "code",
   "execution_count": null,
   "metadata": {},
   "outputs": [],
   "source": [
    "htmltext = f'<!DOCTYPE html PUBLIC \"-//W3C//DTD XHTML 1.1//EN\" \"http://www.w3.org/TR/xhtml11/DTD/xhtml11.dtd\"><html xmlns=\"http://www.w3.org/1999/xhtml\" xml:lang=\"en\"><head><title>Bruno Florentin</title><meta http-equiv=\"content-type\" content=\"text/html; charset=iso-8859-1\" /><link rel=\"stylesheet\" href=\"css/1.css\" type=\"text/css\" media=\"screen,projection\" /></head><body><div id=\"container\">  <div id=\"header\">    <h1><a>Bruno <strong>Florentin</strong></a></h1>    <h2>Some of my thoughts</h2>  </div>  <div id=\"sidebar\">    <h1>About Me</h1>    <p>Hi there! I am Bruno Florentin. I love philosophy and a good cup of coffee.      I share some of my intriguing thoughts in this blog. Hope you enjoy reading them!</p>  </div>  <div id=\"content\">    <h1><a id=\"intro\">{context1}</a></h1>    <p>{content1}</p>    <div class=\"article_menu\"> <b>{date1}</b> </div>        <h1><a id=\"css\">{context2}</a></h1>    <p>{content2}</p>    <div class=\"article_menu\"> <b>{date2}</b> </div>    <h1><a id=\"css\">{context3}</a></h1>    <p>{content3}</p>    <div class=\"article_menu\"> <b>{date3}</b> </div>    <h1><a id=\"css\">{context4}</a></h1>    <p>{content4}</p>    <div class=\"article_menu\"> <b>{date4}</b> </div>    <h1><a id=\"css\">{context5}</a></h1>    <p>{content5}</p>    <div class=\"article_menu\"> <b>{date5}</b> </div>  </div>  <div id=\"footer\">    <p> This is the personal blog of Bruno Florentin. </p>  </div></div></html>'\n",
    "htmltext"
   ]
  },
  {
   "cell_type": "code",
   "execution_count": 13,
   "metadata": {},
   "outputs": [],
   "source": [
    "f = open(\"docs/index.html\", \"w\")\n",
    "f.write(htmltext)\n",
    "f.close()"
   ]
  },
  {
   "cell_type": "code",
   "execution_count": 18,
   "metadata": {},
   "outputs": [],
   "source": [
    "from dotenv import load_dotenv\n",
    "import mysql.connector\n",
    "import os\n",
    "\n",
    "load_dotenv()\n",
    "\n",
    "mydb = mysql.connector.connect(\n",
    "  host = os.getenv('DB_HOST'),\n",
    "  user = os.getenv('DB_USER'),\n",
    "  password = os.getenv('DB_PASSWORD'),\n",
    "  database = os.getenv('DB_NAME')\n",
    ")\n",
    "\n",
    "mycursor = mydb.cursor()\n",
    "\n",
    "sql = \"SELECT * FROM posts LIMIT 5\"\n",
    "mycursor.execute(sql)\n",
    "result = mycursor.fetchall()"
   ]
  },
  {
   "cell_type": "code",
   "execution_count": 22,
   "metadata": {},
   "outputs": [
    {
     "data": {
      "text/plain": [
       "\"I've been through a lot of things in my personal and family life\""
      ]
     },
     "execution_count": 22,
     "metadata": {},
     "output_type": "execute_result"
    }
   ],
   "source": [
    "result[0][1]"
   ]
  },
  {
   "cell_type": "code",
   "execution_count": null,
   "metadata": {},
   "outputs": [],
   "source": []
  },
  {
   "cell_type": "code",
   "execution_count": null,
   "metadata": {},
   "outputs": [],
   "source": []
  },
  {
   "cell_type": "code",
   "execution_count": null,
   "metadata": {},
   "outputs": [],
   "source": []
  }
 ],
 "metadata": {
  "kernelspec": {
   "display_name": "Python 3.9.13 ('venv': venv)",
   "language": "python",
   "name": "python3"
  },
  "language_info": {
   "codemirror_mode": {
    "name": "ipython",
    "version": 3
   },
   "file_extension": ".py",
   "mimetype": "text/x-python",
   "name": "python",
   "nbconvert_exporter": "python",
   "pygments_lexer": "ipython3",
   "version": "3.9.13"
  },
  "orig_nbformat": 4,
  "vscode": {
   "interpreter": {
    "hash": "61072e85bc0ecb51a76e41abfb41aa836401fcc3efc2dccb600f419a5e29a422"
   }
  }
 },
 "nbformat": 4,
 "nbformat_minor": 2
}
