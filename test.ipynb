{
 "cells": [
  {
   "cell_type": "code",
   "execution_count": 4,
   "metadata": {},
   "outputs": [
    {
     "name": "stderr",
     "output_type": "stream",
     "text": [
      "Setting `pad_token_id` to `eos_token_id`:50256 for open-end generation.\n"
     ]
    },
    {
     "name": "stdout",
     "output_type": "stream",
     "text": [
      "I'm free\n",
      "\n",
      "I'm free on the street - I'm in a parking lot, I'm out there in the street, I'm in this parking lot, I'm out there in this parking lot!\"\n",
      "\n",
      "#12\n",
      "\n",
      "\"You're safe in the dark, and I'm fine. I'm very, very lucky, and I just won't lose you.\"\n",
      "\n",
      "\"You have to live somewhere - is your life a joke, a lie?\"\n",
      "\n",
      "\"No, I can't live in my own way!\"\n",
      "\n",
      "#13\n",
      "\n",
      "\"I'm a loser, and I'm sorry. I'm just a kid trying to get a few good things done in my life - I'm not very good at being a loser.\"\n",
      "\n",
      "_Diana, you're not a loser. You're just a kid trying to get a few good things done in your life - you're not very good at being a loser._\n",
      "\n",
      "\"I'm not a loser.\"\n",
      "\n",
      "\"Then why did you come back?\"\n",
      "\n",
      "\"I never wanted to come back. I'm just a kid, and I know I was meant to be with you, and I know my daddy never intended me to come back to you – but it wasn't always about you either. My old friend, the one who came up with the idea of bringing back the girls, the one who didn't like you being around, that made you feel lonely. And I've never heard that.\n"
     ]
    }
   ],
   "source": [
    "from transformers import pipeline\n",
    "import requests\n",
    "\n",
    "## function that gets the random quote\n",
    "def get_random_quote():\n",
    "\ttry:\n",
    "\t\t## making the get request\n",
    "\t\tresponse = requests.get(\"https://quote-garden.herokuapp.com/api/v3/quotes/random\")\n",
    "\t\tif response.status_code == 200:\n",
    "\t\t\t## extracting the core data\n",
    "\t\t\tjson_data = response.json()\n",
    "\t\t\tdata = json_data['data']\n",
    "\n",
    "\t\t\t## getting the quote from the data\n",
    "\t\t\treturn data[0]['quoteText']\n",
    "\t\telse:\n",
    "\t\t\tprint(\"Error while getting quote\")\n",
    "\texcept:\n",
    "\t\tprint(\"Something went wrong! Try Again!\")\n",
    "\n",
    "quote = get_random_quote()\n",
    "\n",
    "generator = pipeline('text-generation', model ='EleutherAI/gpt-neo-125M')\n",
    "\n",
    "context = quote.partition('.')[0]\n",
    "output = generator(context, max_length=300, do_sample=True, temperature=0.9)\n",
    "content = output[0]['generated_text'].rsplit('.', 1)[0]+\".\"\n",
    "print(context+'\\n'+'\\n'+content)"
   ]
  },
  {
   "cell_type": "code",
   "execution_count": 5,
   "metadata": {},
   "outputs": [
    {
     "ename": "IntegrityError",
     "evalue": "1062 (23000): Duplicate entry '0' for key 'PRIMARY'",
     "output_type": "error",
     "traceback": [
      "\u001b[0;31m---------------------------------------------------------------------------\u001b[0m",
      "\u001b[0;31mIntegrityError\u001b[0m                            Traceback (most recent call last)",
      "Cell \u001b[0;32mIn [5], line 18\u001b[0m\n\u001b[1;32m     16\u001b[0m sql \u001b[38;5;241m=\u001b[39m \u001b[38;5;124m\"\u001b[39m\u001b[38;5;124mINSERT INTO posts (context, content) VALUES (\u001b[39m\u001b[38;5;132;01m%s\u001b[39;00m\u001b[38;5;124m, \u001b[39m\u001b[38;5;132;01m%s\u001b[39;00m\u001b[38;5;124m)\u001b[39m\u001b[38;5;124m\"\u001b[39m\n\u001b[1;32m     17\u001b[0m val \u001b[38;5;241m=\u001b[39m (context, content)\n\u001b[0;32m---> 18\u001b[0m \u001b[43mmycursor\u001b[49m\u001b[38;5;241;43m.\u001b[39;49m\u001b[43mexecute\u001b[49m\u001b[43m(\u001b[49m\u001b[43msql\u001b[49m\u001b[43m,\u001b[49m\u001b[43m \u001b[49m\u001b[43mval\u001b[49m\u001b[43m)\u001b[49m\n\u001b[1;32m     20\u001b[0m mydb\u001b[38;5;241m.\u001b[39mcommit()\n\u001b[1;32m     22\u001b[0m \u001b[38;5;28mprint\u001b[39m(mycursor\u001b[38;5;241m.\u001b[39mrowcount, \u001b[38;5;124m\"\u001b[39m\u001b[38;5;124mrecord inserted.\u001b[39m\u001b[38;5;124m\"\u001b[39m)\n",
      "File \u001b[0;32m~/development/trollnews/venv/lib/python3.9/site-packages/mysql/connector/cursor.py:551\u001b[0m, in \u001b[0;36mMySQLCursor.execute\u001b[0;34m(self, operation, params, multi)\u001b[0m\n\u001b[1;32m    549\u001b[0m \u001b[39melse\u001b[39;00m:\n\u001b[1;32m    550\u001b[0m     \u001b[39mtry\u001b[39;00m:\n\u001b[0;32m--> 551\u001b[0m         \u001b[39mself\u001b[39m\u001b[39m.\u001b[39m_handle_result(\u001b[39mself\u001b[39;49m\u001b[39m.\u001b[39;49m_connection\u001b[39m.\u001b[39;49mcmd_query(stmt))\n\u001b[1;32m    552\u001b[0m     \u001b[39mexcept\u001b[39;00m errors\u001b[39m.\u001b[39mInterfaceError:\n\u001b[1;32m    553\u001b[0m         \u001b[39mif\u001b[39;00m \u001b[39mself\u001b[39m\u001b[39m.\u001b[39m_connection\u001b[39m.\u001b[39m_have_next_result:  \u001b[39m# pylint: disable=W0212\u001b[39;00m\n",
      "File \u001b[0;32m~/development/trollnews/venv/lib/python3.9/site-packages/mysql/connector/connection.py:490\u001b[0m, in \u001b[0;36mMySQLConnection.cmd_query\u001b[0;34m(self, query, raw, buffered, raw_as_string)\u001b[0m\n\u001b[1;32m    488\u001b[0m \u001b[39mif\u001b[39;00m \u001b[39mnot\u001b[39;00m \u001b[39misinstance\u001b[39m(query, \u001b[39mbytes\u001b[39m):\n\u001b[1;32m    489\u001b[0m     query \u001b[39m=\u001b[39m query\u001b[39m.\u001b[39mencode(\u001b[39m'\u001b[39m\u001b[39mutf-8\u001b[39m\u001b[39m'\u001b[39m)\n\u001b[0;32m--> 490\u001b[0m result \u001b[39m=\u001b[39m \u001b[39mself\u001b[39;49m\u001b[39m.\u001b[39;49m_handle_result(\u001b[39mself\u001b[39;49m\u001b[39m.\u001b[39;49m_send_cmd(ServerCmd\u001b[39m.\u001b[39;49mQUERY, query))\n\u001b[1;32m    492\u001b[0m \u001b[39mif\u001b[39;00m \u001b[39mself\u001b[39m\u001b[39m.\u001b[39m_have_next_result:\n\u001b[1;32m    493\u001b[0m     \u001b[39mraise\u001b[39;00m errors\u001b[39m.\u001b[39mInterfaceError(\n\u001b[1;32m    494\u001b[0m         \u001b[39m'\u001b[39m\u001b[39mUse cmd_query_iter for statements with multiple queries.\u001b[39m\u001b[39m'\u001b[39m)\n",
      "File \u001b[0;32m~/development/trollnews/venv/lib/python3.9/site-packages/mysql/connector/connection.py:395\u001b[0m, in \u001b[0;36mMySQLConnection._handle_result\u001b[0;34m(self, packet)\u001b[0m\n\u001b[1;32m    393\u001b[0m     \u001b[39mreturn\u001b[39;00m \u001b[39mself\u001b[39m\u001b[39m.\u001b[39m_handle_eof(packet)\n\u001b[1;32m    394\u001b[0m \u001b[39melif\u001b[39;00m packet[\u001b[39m4\u001b[39m] \u001b[39m==\u001b[39m \u001b[39m255\u001b[39m:\n\u001b[0;32m--> 395\u001b[0m     \u001b[39mraise\u001b[39;00m errors\u001b[39m.\u001b[39mget_exception(packet)\n\u001b[1;32m    397\u001b[0m \u001b[39m# We have a text result set\u001b[39;00m\n\u001b[1;32m    398\u001b[0m column_count \u001b[39m=\u001b[39m \u001b[39mself\u001b[39m\u001b[39m.\u001b[39m_protocol\u001b[39m.\u001b[39mparse_column_count(packet)\n",
      "\u001b[0;31mIntegrityError\u001b[0m: 1062 (23000): Duplicate entry '0' for key 'PRIMARY'"
     ]
    }
   ],
   "source": [
    "from dotenv import load_dotenv\n",
    "import mysql.connector\n",
    "import os\n",
    "\n",
    "load_dotenv()\n",
    "\n",
    "mydb = mysql.connector.connect(\n",
    "  host = os.getenv('DB_HOST'),\n",
    "  user = os.getenv('DB_USER'),\n",
    "  password = os.getenv('DB_PASSWORD'),\n",
    "  database = os.getenv('DB_NAME')\n",
    ")\n",
    "\n",
    "mycursor = mydb.cursor()\n",
    "\n",
    "sql = \"INSERT INTO posts (context, content) VALUES (%s, %s)\"\n",
    "val = (context, content)\n",
    "mycursor.execute(sql, val)\n",
    "\n",
    "mydb.commit()\n",
    "\n",
    "print(mycursor.rowcount, \"record inserted.\")"
   ]
  },
  {
   "cell_type": "code",
   "execution_count": null,
   "metadata": {},
   "outputs": [],
   "source": []
  },
  {
   "cell_type": "code",
   "execution_count": null,
   "metadata": {},
   "outputs": [],
   "source": []
  },
  {
   "cell_type": "code",
   "execution_count": null,
   "metadata": {},
   "outputs": [],
   "source": []
  },
  {
   "cell_type": "code",
   "execution_count": null,
   "metadata": {},
   "outputs": [
    {
     "data": {
      "text/plain": [
       "True"
      ]
     },
     "execution_count": 1,
     "metadata": {},
     "output_type": "execute_result"
    }
   ],
   "source": [
    "from dotenv import load_dotenv\n",
    "\n",
    "load_dotenv()"
   ]
  }
 ],
 "metadata": {
  "kernelspec": {
   "display_name": "Python 3.9.13 ('venv': venv)",
   "language": "python",
   "name": "python3"
  },
  "language_info": {
   "codemirror_mode": {
    "name": "ipython",
    "version": 3
   },
   "file_extension": ".py",
   "mimetype": "text/x-python",
   "name": "python",
   "nbconvert_exporter": "python",
   "pygments_lexer": "ipython3",
   "version": "3.9.13"
  },
  "orig_nbformat": 4,
  "vscode": {
   "interpreter": {
    "hash": "61072e85bc0ecb51a76e41abfb41aa836401fcc3efc2dccb600f419a5e29a422"
   }
  }
 },
 "nbformat": 4,
 "nbformat_minor": 2
}
