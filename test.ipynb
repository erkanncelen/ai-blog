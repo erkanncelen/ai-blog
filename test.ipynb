{
 "cells": [
  {
   "cell_type": "code",
   "execution_count": 9,
   "metadata": {},
   "outputs": [
    {
     "name": "stderr",
     "output_type": "stream",
     "text": [
      "Setting `pad_token_id` to `eos_token_id`:50256 for open-end generation.\n"
     ]
    },
    {
     "name": "stdout",
     "output_type": "stream",
     "text": [
      "A dream is your creative vision for your life in the future\n",
      "\n",
      "A dream is your creative vision for your life in the future. To help me meet people, make them happier and better, and make them understand their problems and how to help them find solutions.\n"
     ]
    }
   ],
   "source": [
    "from transformers import pipeline\n",
    "import requests\n",
    "\n",
    "## function that gets the random quote\n",
    "def get_random_quote():\n",
    "\ttry:\n",
    "\t\t## making the get request\n",
    "\t\tresponse = requests.get(\"https://quote-garden.herokuapp.com/api/v3/quotes/random\")\n",
    "\t\tif response.status_code == 200:\n",
    "\t\t\t## extracting the core data\n",
    "\t\t\tjson_data = response.json()\n",
    "\t\t\tdata = json_data['data']\n",
    "\n",
    "\t\t\t## getting the quote from the data\n",
    "\t\t\treturn data[0]['quoteText']\n",
    "\t\telse:\n",
    "\t\t\tprint(\"Error while getting quote\")\n",
    "\texcept:\n",
    "\t\tprint(\"Something went wrong! Try Again!\")\n",
    "\n",
    "quote = get_random_quote()\n",
    "\n",
    "generator = pipeline('text-generation', model ='EleutherAI/gpt-neo-125M')\n",
    "\n",
    "context = quote.partition('.')[0]\n",
    "output = generator(context, max_length=300, do_sample=True, temperature=0.9)\n",
    "content = output[0]['generated_text'].rsplit('.', 1)[0]+\".\"\n",
    "print(context+'\\n'+'\\n'+content)"
   ]
  },
  {
   "cell_type": "code",
   "execution_count": 10,
   "metadata": {},
   "outputs": [
    {
     "name": "stdout",
     "output_type": "stream",
     "text": [
      "1 record inserted.\n"
     ]
    }
   ],
   "source": [
    "from dotenv import load_dotenv\n",
    "import mysql.connector\n",
    "import os\n",
    "\n",
    "load_dotenv()\n",
    "\n",
    "mydb = mysql.connector.connect(\n",
    "  host = os.getenv('DB_HOST'),\n",
    "  user = os.getenv('DB_USER'),\n",
    "  password = os.getenv('DB_PASSWORD'),\n",
    "  database = os.getenv('DB_NAME')\n",
    ")\n",
    "\n",
    "mycursor = mydb.cursor()\n",
    "\n",
    "sql = \"INSERT INTO posts (context, content) VALUES (%s, %s)\"\n",
    "val = (context, content)\n",
    "mycursor.execute(sql, val)\n",
    "\n",
    "mydb.commit()\n",
    "\n",
    "print(mycursor.rowcount, \"record inserted.\")"
   ]
  },
  {
   "cell_type": "code",
   "execution_count": null,
   "metadata": {},
   "outputs": [],
   "source": []
  },
  {
   "cell_type": "code",
   "execution_count": null,
   "metadata": {},
   "outputs": [],
   "source": []
  },
  {
   "cell_type": "code",
   "execution_count": 2,
   "metadata": {},
   "outputs": [
    {
     "data": {
      "text/plain": [
       "'aaahamdi'"
      ]
     },
     "execution_count": 2,
     "metadata": {},
     "output_type": "execute_result"
    }
   ],
   "source": [
    "text = \"hamdi\"\n",
    "vision = f\"aaa{text}\"\n",
    "vision"
   ]
  },
  {
   "cell_type": "code",
   "execution_count": null,
   "metadata": {},
   "outputs": [],
   "source": []
  },
  {
   "cell_type": "code",
   "execution_count": null,
   "metadata": {},
   "outputs": [],
   "source": []
  },
  {
   "cell_type": "code",
   "execution_count": 11,
   "metadata": {},
   "outputs": [
    {
     "data": {
      "text/plain": [
       "True"
      ]
     },
     "execution_count": 11,
     "metadata": {},
     "output_type": "execute_result"
    }
   ],
   "source": [
    "from dotenv import load_dotenv\n",
    "\n",
    "load_dotenv()"
   ]
  }
 ],
 "metadata": {
  "kernelspec": {
   "display_name": "Python 3.9.13 ('venv': venv)",
   "language": "python",
   "name": "python3"
  },
  "language_info": {
   "codemirror_mode": {
    "name": "ipython",
    "version": 3
   },
   "file_extension": ".py",
   "mimetype": "text/x-python",
   "name": "python",
   "nbconvert_exporter": "python",
   "pygments_lexer": "ipython3",
   "version": "3.9.13"
  },
  "orig_nbformat": 4,
  "vscode": {
   "interpreter": {
    "hash": "61072e85bc0ecb51a76e41abfb41aa836401fcc3efc2dccb600f419a5e29a422"
   }
  }
 },
 "nbformat": 4,
 "nbformat_minor": 2
}
